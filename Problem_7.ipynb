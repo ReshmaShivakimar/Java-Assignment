{
  "nbformat": 4,
  "nbformat_minor": 0,
  "metadata": {
    "colab": {
      "provenance": [],
      "authorship_tag": "ABX9TyOWgVnMJT9VV+MueE+rGCbS",
      "include_colab_link": true
    },
    "kernelspec": {
      "name": "python3",
      "display_name": "Python 3"
    },
    "language_info": {
      "name": "python"
    }
  },
  "cells": [
    {
      "cell_type": "markdown",
      "metadata": {
        "id": "view-in-github",
        "colab_type": "text"
      },
      "source": [
        "<a href=\"https://colab.research.google.com/github/ReshmaShivakimar/Java-Assignment/blob/main/Problem_7.ipynb\" target=\"_parent\"><img src=\"https://colab.research.google.com/assets/colab-badge.svg\" alt=\"Open In Colab\"/></a>"
      ]
    },
    {
      "cell_type": "code",
      "execution_count": null,
      "metadata": {
        "id": "S6iZ6O2ZjgSR"
      },
      "outputs": [],
      "source": [
        "Find the value of C in below Program and return it?\n",
        "\n",
        "public int returnNumber(){\n",
        "\n",
        "     \n",
        "\n",
        "    int c = 0;\n",
        "\n",
        "    float a = 7.8f;\n",
        "\n",
        "    float b = 4.4f;\n",
        "\n",
        "     \n",
        "\n",
        "    // c=a+b;\n",
        "\n",
        "     \n",
        "\n",
        "    return c;\n",
        "\n",
        "  }\n",
        "\n",
        "  Answer:"
      ]
    },
    {
      "cell_type": "markdown",
      "source": [
        "**Answer**: \"The result will be 0, because at the begining of the code the variable 'c' is initialized to 0 and also the later 'c' is commented.So after executing the value c will be returned with 0\""
      ],
      "metadata": {
        "id": "12Wr0Q-rjldN"
      }
    }
  ]
}