{
  "nbformat": 4,
  "nbformat_minor": 0,
  "metadata": {
    "colab": {
      "provenance": [],
      "authorship_tag": "ABX9TyPssPFPQGrm+DN5OLUwL5G/",
      "include_colab_link": true
    },
    "kernelspec": {
      "name": "python3",
      "display_name": "Python 3"
    },
    "language_info": {
      "name": "python"
    }
  },
  "cells": [
    {
      "cell_type": "markdown",
      "metadata": {
        "id": "view-in-github",
        "colab_type": "text"
      },
      "source": [
        "<a href=\"https://colab.research.google.com/github/ReshmaShivakimar/Java-Assignment/blob/main/Problem3.ipynb\" target=\"_parent\"><img src=\"https://colab.research.google.com/assets/colab-badge.svg\" alt=\"Open In Colab\"/></a>"
      ]
    },
    {
      "cell_type": "code",
      "execution_count": null,
      "metadata": {
        "id": "9xZgViht7WtP"
      },
      "outputs": [],
      "source": [
        "\n",
        "class Person {\n",
        "    private int age;\n",
        "\n",
        "    public void setAge(int age) throws AgeException {\n",
        "        if (age < 25 || age > 55) {\n",
        "            throw new AgeException(\"Age must be between 25 and 55\");\n",
        "        }\n",
        "        this.age = age;\n",
        "    }\n",
        "\n",
        "    public int getAge() {\n",
        "        return age;\n",
        "    }\n",
        "}\n",
        "\n",
        "public class Main {\n",
        "    public static void main(String[] args) {\n",
        "        Person person = new Person();\n",
        "        try {\n",
        "            person.setAge(20);\n",
        "        } catch (AgeException e) {\n",
        "            System.out.println(\"Error: \" + e.getMessage());\n",
        "        }\n",
        "\n",
        "        try {\n",
        "            person.setAge(60); \n",
        "        } catch (AgeException e) {\n",
        "            System.out.println(\"Error: \" + e.getMessage());\n",
        "        }\n",
        "\n",
        "        try {\n",
        "            person.setAge(30); \n",
        "            System.out.println(\"Age: \" + person.getAge());\n",
        "        } catch (AgeException e) {\n",
        "            System.out.println(\"Error: \" + e.getMessage());\n",
        "        }\n",
        "    }\n",
        "}\n"
      ]
    }
  ]
}