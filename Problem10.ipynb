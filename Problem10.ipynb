{
  "nbformat": 4,
  "nbformat_minor": 0,
  "metadata": {
    "colab": {
      "provenance": [],
      "authorship_tag": "ABX9TyPbPTVfgKEV9mKwwALOPT/3",
      "include_colab_link": true
    },
    "kernelspec": {
      "name": "python3",
      "display_name": "Python 3"
    },
    "language_info": {
      "name": "python"
    }
  },
  "cells": [
    {
      "cell_type": "markdown",
      "metadata": {
        "id": "view-in-github",
        "colab_type": "text"
      },
      "source": [
        "<a href=\"https://colab.research.google.com/github/ReshmaShivakimar/Java-Assignment/blob/main/Problem10.ipynb\" target=\"_parent\"><img src=\"https://colab.research.google.com/assets/colab-badge.svg\" alt=\"Open In Colab\"/></a>"
      ]
    },
    {
      "cell_type": "code",
      "execution_count": null,
      "metadata": {
        "id": "03v4WoQZnZxq"
      },
      "outputs": [],
      "source": []
    },
    {
      "cell_type": "markdown",
      "source": [
        "1. Private data members are only accessible within the class and they are not accessible outside the class.\n",
        "2. However, we can access the private data members by using 'getters' and 'setters'.\n",
        "\n",
        "Example:"
      ],
      "metadata": {
        "id": "KolrRMGFnb2Z"
      }
    },
    {
      "cell_type": "code",
      "source": [
        "class PrivateDataMember {\n",
        "    private int privateData;\n",
        "\n",
        "    public int getPrivateData() {\n",
        "        return privateData;\n",
        "    }\n",
        "\n",
        "    public void setPrivateData(int data) {\n",
        "        privateData = data;\n",
        "    }\n",
        "}\n",
        "\n",
        "public class MainClass {\n",
        "    public static void main(String[] args) {\n",
        "        PrivateDataMember myObj = new PrivateDataMember();\n",
        "\n",
        "         myObj.setPrivateData(10);\n",
        "\n",
        "         int data = myObj.getPrivateData();\n",
        "        System.out.println(\"Private Data: \" + data);\n",
        "    }\n",
        "}\n"
      ],
      "metadata": {
        "id": "bE-Y1rCIoKzg"
      },
      "execution_count": null,
      "outputs": []
    }
  ]
}