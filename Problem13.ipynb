{
  "nbformat": 4,
  "nbformat_minor": 0,
  "metadata": {
    "colab": {
      "provenance": [],
      "authorship_tag": "ABX9TyPLsCzLA+Ymk5IXTffvZV2l",
      "include_colab_link": true
    },
    "kernelspec": {
      "name": "python3",
      "display_name": "Python 3"
    },
    "language_info": {
      "name": "python"
    }
  },
  "cells": [
    {
      "cell_type": "markdown",
      "metadata": {
        "id": "view-in-github",
        "colab_type": "text"
      },
      "source": [
        "<a href=\"https://colab.research.google.com/github/ReshmaShivakimar/Java-Assignment/blob/main/Problem13.ipynb\" target=\"_parent\"><img src=\"https://colab.research.google.com/assets/colab-badge.svg\" alt=\"Open In Colab\"/></a>"
      ]
    },
    {
      "cell_type": "code",
      "execution_count": null,
      "metadata": {
        "id": "8fq4BntOssN9"
      },
      "outputs": [],
      "source": [
        "public class ReverseStringExample {\n",
        "    public static void main(String[] args) {\n",
        "        String str = \"Welcome To Java\";\n",
        "        \n",
        "        char[] charArray = str.toCharArray();\n",
        "        \n",
        "        int left = 0;\n",
        "        int right = charArray.length - 1;\n",
        "        while (left < right) {\n",
        "            char temp = charArray[left];\n",
        "            charArray[left] = charArray[right];\n",
        "            charArray[right] = temp;\n",
        "            left++;\n",
        "            right--;\n",
        "        }\n",
        "        \n",
        "        String reversedStr = new String(charArray);\n",
        "        \n",
        "        System.out.println(\"Reversed String: \" + reversedStr);\n",
        "    }\n",
        "}\n"
      ]
    }
  ]
}