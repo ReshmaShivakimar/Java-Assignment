{
  "nbformat": 4,
  "nbformat_minor": 0,
  "metadata": {
    "colab": {
      "provenance": [],
      "authorship_tag": "ABX9TyMDArQN2Yw9xpuX04S+gFgI",
      "include_colab_link": true
    },
    "kernelspec": {
      "name": "python3",
      "display_name": "Python 3"
    },
    "language_info": {
      "name": "python"
    }
  },
  "cells": [
    {
      "cell_type": "markdown",
      "metadata": {
        "id": "view-in-github",
        "colab_type": "text"
      },
      "source": [
        "<a href=\"https://colab.research.google.com/github/ReshmaShivakimar/Java-Assignment/blob/main/Problem8.ipynb\" target=\"_parent\"><img src=\"https://colab.research.google.com/assets/colab-badge.svg\" alt=\"Open In Colab\"/></a>"
      ]
    },
    {
      "cell_type": "code",
      "execution_count": null,
      "metadata": {
        "id": "-a0J1lwJk-Bi"
      },
      "outputs": [],
      "source": [
        "public class SpaceCount{\n",
        "    public static void main(String[] args) {\n",
        "        String sentence = \"Welcome To Java\";\n",
        "        int spaceCount = 0;\n",
        "        for (int i = 0; i < sentence.length(); i++) {\n",
        "            if (sentence.charAt(i) == ' ') {\n",
        "                spaceCount++;\n",
        "            }\n",
        "        }\n",
        "        \n",
        "        System.out.println(\"Number of spaces: \" + spaceCount);\n",
        "        \n",
        "         String[] words = sentence.split(\" \");\n",
        "        \n",
        "          if (words.length > 0) {\n",
        "            System.out.println(\"First word: \" + words[0]);\n",
        "        }\n",
        "    }\n",
        "}\n"
      ]
    }
  ]
}