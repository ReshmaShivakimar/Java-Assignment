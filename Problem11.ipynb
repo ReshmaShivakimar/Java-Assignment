{
  "nbformat": 4,
  "nbformat_minor": 0,
  "metadata": {
    "colab": {
      "provenance": [],
      "authorship_tag": "ABX9TyNPDFZYMaI2TGxRUBJC5BDG",
      "include_colab_link": true
    },
    "kernelspec": {
      "name": "python3",
      "display_name": "Python 3"
    },
    "language_info": {
      "name": "python"
    }
  },
  "cells": [
    {
      "cell_type": "markdown",
      "metadata": {
        "id": "view-in-github",
        "colab_type": "text"
      },
      "source": [
        "<a href=\"https://colab.research.google.com/github/ReshmaShivakimar/Java-Assignment/blob/main/Problem11.ipynb\" target=\"_parent\"><img src=\"https://colab.research.google.com/assets/colab-badge.svg\" alt=\"Open In Colab\"/></a>"
      ]
    },
    {
      "cell_type": "code",
      "execution_count": null,
      "metadata": {
        "id": "gP52eMlxqtcy"
      },
      "outputs": [],
      "source": [
        "import java.util.HashMap;\n",
        "\n",
        "public class Employee {\n",
        "    public static void main(String[] args) {\n",
        "        HashMap<Integer, String> employeeDb = new HashMap<>();\n",
        "        employeeDb.put(123, \"Jadeja\");\n",
        "        employeeDb.put(456, \"Smith\");\n",
        "        employeeDb.put(789, \"Dhoni\");\n",
        "        employeeDb.put(112, \"Raina\");\n",
        "        //Few more to be added\n",
        "        int empId = 123;\n",
        "        String empName = employeeDb.get(empId);\n",
        "        \n",
        "        System.out.println(\"Employee Name: \" + empName);\n",
        "    }\n",
        "}\n"
      ]
    }
  ]
}