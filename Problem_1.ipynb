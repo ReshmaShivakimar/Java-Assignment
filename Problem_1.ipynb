{
  "nbformat": 4,
  "nbformat_minor": 0,
  "metadata": {
    "colab": {
      "provenance": [],
      "authorship_tag": "ABX9TyOOzF0S2uw3RWeFEnLJElI+",
      "include_colab_link": true
    },
    "kernelspec": {
      "name": "python3",
      "display_name": "Python 3"
    },
    "language_info": {
      "name": "python"
    }
  },
  "cells": [
    {
      "cell_type": "markdown",
      "metadata": {
        "id": "view-in-github",
        "colab_type": "text"
      },
      "source": [
        "<a href=\"https://colab.research.google.com/github/ReshmaShivakimar/Java-Assignment/blob/main/Problem_1.ipynb\" target=\"_parent\"><img src=\"https://colab.research.google.com/assets/colab-badge.svg\" alt=\"Open In Colab\"/></a>"
      ]
    },
    {
      "cell_type": "code",
      "execution_count": null,
      "metadata": {
        "id": "B-nTwmI0tGpp"
      },
      "outputs": [],
      "source": [
        "public class FloatAddition {\n",
        "    public static void main(String[] args) {\n",
        "        float num1 = 10.6f;\n",
        "        float num2 = 9.7f;\n",
        "        \n",
        "        float sum = num1 + num2;\n",
        "        \n",
        "        System.out.println(\"The sum of \" + num1 + \" and \" + num2 + \" is: \" + sum);\n",
        "    }\n",
        "}"
      ]
    }
  ]
}