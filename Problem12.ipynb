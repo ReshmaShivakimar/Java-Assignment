{
  "nbformat": 4,
  "nbformat_minor": 0,
  "metadata": {
    "colab": {
      "provenance": [],
      "authorship_tag": "ABX9TyO4B+iVul/Dc8GzuyR60Mxf",
      "include_colab_link": true
    },
    "kernelspec": {
      "name": "python3",
      "display_name": "Python 3"
    },
    "language_info": {
      "name": "python"
    }
  },
  "cells": [
    {
      "cell_type": "markdown",
      "metadata": {
        "id": "view-in-github",
        "colab_type": "text"
      },
      "source": [
        "<a href=\"https://colab.research.google.com/github/ReshmaShivakimar/Java-Assignment/blob/main/Problem12.ipynb\" target=\"_parent\"><img src=\"https://colab.research.google.com/assets/colab-badge.svg\" alt=\"Open In Colab\"/></a>"
      ]
    },
    {
      "cell_type": "code",
      "execution_count": null,
      "metadata": {
        "id": "vatWi-xNq-no"
      },
      "outputs": [],
      "source": [
        "class MyClass {\n",
        "    private static int objectCount = 0;\n",
        "\n",
        "    public MyClass() {\n",
        "        objectCount++;\n",
        "    }\n",
        "\n",
        "    public static int getObjectCount() {\n",
        "        return objectCount;\n",
        "    }\n",
        "}\n",
        "\n",
        "public class ObjectCountExample extends MyClass {\n",
        "    public static void main(String[] args) {\n",
        "        MyClass obj1 = new MyClass();\n",
        "        MyClass obj2 = new MyClass();\n",
        "        MyClass obj3 = new MyClass();\n",
        "        MyClass obj4 = new MyClass();\n",
        "\n",
        "         int count = MyClass.getObjectCount();\n",
        "\n",
        "        \n",
        "        System.out.println(\"Number of objects created: \" + count);\n",
        "    }\n",
        "}\n"
      ]
    }
  ]
}