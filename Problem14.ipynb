{
  "nbformat": 4,
  "nbformat_minor": 0,
  "metadata": {
    "colab": {
      "provenance": [],
      "authorship_tag": "ABX9TyN6O6GtAaG7KzJwsN//DvYU",
      "include_colab_link": true
    },
    "kernelspec": {
      "name": "python3",
      "display_name": "Python 3"
    },
    "language_info": {
      "name": "python"
    }
  },
  "cells": [
    {
      "cell_type": "markdown",
      "metadata": {
        "id": "view-in-github",
        "colab_type": "text"
      },
      "source": [
        "<a href=\"https://colab.research.google.com/github/ReshmaShivakimar/Java-Assignment/blob/main/Problem14.ipynb\" target=\"_parent\"><img src=\"https://colab.research.google.com/assets/colab-badge.svg\" alt=\"Open In Colab\"/></a>"
      ]
    },
    {
      "cell_type": "code",
      "execution_count": null,
      "metadata": {
        "id": "0GMKI1yXuBEe"
      },
      "outputs": [],
      "source": [
        "import java.time.LocalDate;\n",
        "import java.time.format.DateTimeFormatter;\n",
        "\n",
        "public class CurrentDate {\n",
        "    public static void main(String[] args) {\n",
        "        \n",
        "        LocalDate currentDate = LocalDate.now();\n",
        "        \n",
        "        DateTimeFormatter formatter = DateTimeFormatter.ofPattern(\"dd/MM/yyyy\");\n",
        "        String formattedDate = currentDate.format(formatter);\n",
        "        \n",
        "        System.out.println(\"Current Date: \" + formattedDate);\n",
        "        \n",
        "        String dateAsString = getCurrentDateAsString();\n",
        "        System.out.println(\"Current Date as String: \" + dateAsString);\n",
        "    }\n",
        "    \n",
        "  }\n"
      ]
    }
  ]
}