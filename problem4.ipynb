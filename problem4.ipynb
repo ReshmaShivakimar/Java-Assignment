{
  "nbformat": 4,
  "nbformat_minor": 0,
  "metadata": {
    "colab": {
      "provenance": [],
      "authorship_tag": "ABX9TyO2eeFanSNV51lSOQwVp4U5",
      "include_colab_link": true
    },
    "kernelspec": {
      "name": "python3",
      "display_name": "Python 3"
    },
    "language_info": {
      "name": "python"
    }
  },
  "cells": [
    {
      "cell_type": "markdown",
      "metadata": {
        "id": "view-in-github",
        "colab_type": "text"
      },
      "source": [
        "<a href=\"https://colab.research.google.com/github/ReshmaShivakimar/Java-Assignment/blob/main/problem4.ipynb\" target=\"_parent\"><img src=\"https://colab.research.google.com/assets/colab-badge.svg\" alt=\"Open In Colab\"/></a>"
      ]
    },
    {
      "cell_type": "code",
      "execution_count": null,
      "metadata": {
        "id": "vCbcoW_jAcO2"
      },
      "outputs": [],
      "source": [
        "public int calculate(int num1, int num2, String operation) {\n",
        "\n",
        "        if (operation == \"add\") {\n",
        "            return num1 + num2;\n",
        "        } else if (operation == \"subtract\") {\n",
        "            return num1 - num2;\n",
        "\n",
        "        } else if (operation == \"multiplication\") {\n",
        "            return num1 * num2;\n",
        "        } else if (operation == \"division\") {\n",
        "            return num1 / num2;\n",
        "        } else return 0;\n",
        "\n",
        "    }"
      ]
    }
  ]
}