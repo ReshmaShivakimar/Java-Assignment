{
  "nbformat": 4,
  "nbformat_minor": 0,
  "metadata": {
    "colab": {
      "provenance": [],
      "authorship_tag": "ABX9TyM7dDf6C4qowdEcGpfOBn1Y",
      "include_colab_link": true
    },
    "kernelspec": {
      "name": "python3",
      "display_name": "Python 3"
    },
    "language_info": {
      "name": "python"
    }
  },
  "cells": [
    {
      "cell_type": "markdown",
      "metadata": {
        "id": "view-in-github",
        "colab_type": "text"
      },
      "source": [
        "<a href=\"https://colab.research.google.com/github/ReshmaShivakimar/Java-Assignment/blob/main/Problem_2.ipynb\" target=\"_parent\"><img src=\"https://colab.research.google.com/assets/colab-badge.svg\" alt=\"Open In Colab\"/></a>"
      ]
    },
    {
      "cell_type": "code",
      "execution_count": null,
      "metadata": {
        "id": "xrICnJAr6F00"
      },
      "outputs": [],
      "source": [
        "class ClassA {\n",
        "    private int myVariable;\n",
        "\n",
        "    public ClassA() {\n",
        "        ClassB myClassB = new ClassB(this);\n",
        "        myClassB.printVariable();\n",
        "    }\n",
        "\n",
        "    public int getMyVariable() {\n",
        "        return myVariable;\n",
        "    }\n",
        "\n",
        "    public void setMyVariable(int value) {\n",
        "        myVariable = value;\n",
        "    }\n",
        "}\n",
        "\n",
        "class ClassB {\n",
        "    private int myVariable;\n",
        "\n",
        "    public ClassB(ClassA classA) {\n",
        "        myVariable = classA.getMyVariable(); // Get the value from ClassA\n",
        "    }\n",
        "\n",
        "    public void printVariable() {\n",
        "        System.out.println(\"The value of myVariable in ClassB is: \" + myVariable);\n",
        "    }\n",
        "}\n",
        "\n",
        "public class Main {\n",
        "    public static void main(String[] args) {\n",
        "        ClassA myClassA = new ClassA();\n",
        "        myClassA.setMyVariable(5); \n",
        "    }\n",
        "}"
      ]
    }
  ]
}