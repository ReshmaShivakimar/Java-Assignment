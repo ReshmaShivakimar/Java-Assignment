{
  "nbformat": 4,
  "nbformat_minor": 0,
  "metadata": {
    "colab": {
      "provenance": [],
      "authorship_tag": "ABX9TyO4dXmlg4mFSNfBDoIAVkSj",
      "include_colab_link": true
    },
    "kernelspec": {
      "name": "python3",
      "display_name": "Python 3"
    },
    "language_info": {
      "name": "python"
    }
  },
  "cells": [
    {
      "cell_type": "markdown",
      "metadata": {
        "id": "view-in-github",
        "colab_type": "text"
      },
      "source": [
        "<a href=\"https://colab.research.google.com/github/ReshmaShivakimar/Java-Assignment/blob/main/Problem6.ipynb\" target=\"_parent\"><img src=\"https://colab.research.google.com/assets/colab-badge.svg\" alt=\"Open In Colab\"/></a>"
      ]
    },
    {
      "cell_type": "code",
      "execution_count": null,
      "metadata": {
        "id": "FofhmPafVy6U"
      },
      "outputs": [],
      "source": [
        "import java.util.ArrayList;\n",
        "\n",
        "public class ArrayListExample {\n",
        "    public static void main(String[] args) {\n",
        "         ArrayList<Integer> numberList = new ArrayList<>();\n",
        "\n",
        "         for (int num = 200; num <= 500; num++) {\n",
        "            numberList.add(num);\n",
        "        }\n",
        "\n",
        "              System.out.println(numberList);\n",
        "    }\n",
        "}"
      ]
    }
  ]
}