{
  "nbformat": 4,
  "nbformat_minor": 0,
  "metadata": {
    "colab": {
      "provenance": [],
      "authorship_tag": "ABX9TyNVfSlVGf3BiAYrRTcifUw+",
      "include_colab_link": true
    },
    "kernelspec": {
      "name": "python3",
      "display_name": "Python 3"
    },
    "language_info": {
      "name": "python"
    }
  },
  "cells": [
    {
      "cell_type": "markdown",
      "metadata": {
        "id": "view-in-github",
        "colab_type": "text"
      },
      "source": [
        "<a href=\"https://colab.research.google.com/github/ReshmaShivakimar/Java-Assignment/blob/main/Problem15.ipynb\" target=\"_parent\"><img src=\"https://colab.research.google.com/assets/colab-badge.svg\" alt=\"Open In Colab\"/></a>"
      ]
    },
    {
      "cell_type": "code",
      "execution_count": null,
      "metadata": {
        "id": "MahSoDLMvSmb"
      },
      "outputs": [],
      "source": [
        "import java.util.Random;\n",
        "\n",
        "public class RandomAlphaNumericExample {\n",
        "    public static void main(String[] args) {\n",
        "        \n",
        "        String randomAlphaNumeric = generateRandomAlphaNumeric(10);\n",
        "        \n",
        "        System.out.println(\"Random AlphaNumeric: \" + randomAlphaNumeric);\n",
        "    }\n",
        "    \n",
        "    public static String generateRandomAlphaNumeric(int length) {\n",
        "        \n",
        "        String characters = \"ABCDEFGHIJKLMNOPQRSTUVWXYZ0123456789\";\n",
        "        \n",
        "        StringBuilder sb = new StringBuilder(length);\n",
        "        \n",
        "        Random random = new Random();\n",
        "        \n",
        "        for (int i = 0; i < length; i++) {\n",
        "            int index = random.nextInt(characters.length());\n",
        "            char randomChar = characters.charAt(index);\n",
        "            sb.append(randomChar);\n",
        "        }\n",
        "        \n",
        "\n",
        "        return sb.toString();\n",
        "    }\n",
        "}\n"
      ]
    }
  ]
}